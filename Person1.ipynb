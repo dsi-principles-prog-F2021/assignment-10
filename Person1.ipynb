{
 "cells": [
  {
   "cell_type": "markdown",
   "id": "6a0276cd",
   "metadata": {},
   "source": [
    "# Assignment 10 - Person 1"
   ]
  },
  {
   "cell_type": "markdown",
   "id": "40ca1026",
   "metadata": {},
   "source": [
    "## Part 1 - <font color = \"red\"><b>FINISH BY PERSON 1</font>\n",
    "### Question 1 - Emirp (20 pts)"
   ]
  },
  {
   "cell_type": "markdown",
   "id": "1b990a6e",
   "metadata": {},
   "source": [
    "An emirp (prime spelled backward) is a **nonpalindromic prime number whose reversal is also a prime**. For example, both 17 and 71 are prime numbers, so 17 and 71 are emirps.\n",
    "\n",
    "**1. `def reverse(number)` (5 pts)** <br> \n",
    "This function reads a number as an argument, and returns the reversed number of the input. You may assume the argument number will always be a positive integer, and you should return an integer as well. <br>\n",
    "**Example:** <br>\n",
    "Input: 13 <br>\n",
    "Output: 31 <br>"
   ]
  },
  {
   "cell_type": "code",
   "execution_count": null,
   "id": "1ed4ab0c",
   "metadata": {},
   "outputs": [],
   "source": [
    "def reverse(number):\n",
    "    #Edit here"
   ]
  },
  {
   "cell_type": "markdown",
   "id": "d39fcb14",
   "metadata": {},
   "source": [
    "**2. `def isPrime(number)` (5 pts)** <br>\n",
    "This function reads a number as an argument, and returns a boolean indicating whether or not this number is a prime number. You may assume the argument number will always be a positive integer. <br>\n",
    "**Example:** <br>\n",
    "Input: 13 <br>\n",
    "Output: True <br>\n",
    "Input: 14 <br>\n",
    "Output: False <br>"
   ]
  },
  {
   "cell_type": "code",
   "execution_count": null,
   "id": "8bb70a96",
   "metadata": {},
   "outputs": [],
   "source": [
    "def isPrime(number):\n",
    "    #Edit here"
   ]
  },
  {
   "cell_type": "markdown",
   "id": "23574d0e",
   "metadata": {},
   "source": [
    "**3. `def isEmirp(number)` (10 points)**<br> \n",
    "This function reads a number as an argument, and returns a boolean indicating whether or not this number is a EMIRP number. You may assume the argument number will always be a positive integer. To implement this function, please call the functions you defined in previous questions. <br>\n",
    "**Example:** <br>\n",
    "Input: 17 <br>\n",
    "Output: True <br>"
   ]
  },
  {
   "cell_type": "code",
   "execution_count": null,
   "id": "018eb736",
   "metadata": {},
   "outputs": [],
   "source": [
    "def isEmirp(number):\n",
    "    #Edit here"
   ]
  },
  {
   "cell_type": "markdown",
   "id": "74f7ce4b",
   "metadata": {},
   "source": [
    "### Question 2 (30 pts)\n",
    "Given a `sentence` that consists of some words separated by a single space, and a `searchWord`, check if `searchWord` is a prefix of any word in sentence.\n",
    "\n",
    "Return the index of the word in `sentence` where `searchWord` is a prefix of this word. If `searchWord` is a prefix of more than one word, return the index of the first word (minimum index). If there is no such word return -1.\n",
    "\n",
    "**Example:** <br>\n",
    "Input: sentence = \"this problem is an easy problem\", searchWord = \"pro\"<br>\n",
    "Output: 2"
   ]
  },
  {
   "cell_type": "code",
   "execution_count": null,
   "id": "bddcb3ef",
   "metadata": {},
   "outputs": [],
   "source": [
    "def isPrefixOfWord(sentence, searchWord):\n",
    "    #Edit here"
   ]
  },
  {
   "cell_type": "markdown",
   "id": "5fe0184a",
   "metadata": {},
   "source": [
    "### Question 3 (20 pts)\n",
    "You are given an 2D list `account` where `accounts[i]` contains different amounts of money that the i-th customer saved in different banks. Return the wealth of the richest customer.\n",
    "\n",
    "A customer's wealth is the amount of money they have in all their bank accounts. The richest customer is the customer that has the maximum wealth.\n",
    "\n",
    "**Example:**<br>\n",
    "Input: accounts = [[1,2],[3,2,1]] <br>\n",
    "Output: 6"
   ]
  },
  {
   "cell_type": "code",
   "execution_count": null,
   "id": "0020359d",
   "metadata": {},
   "outputs": [],
   "source": [
    "def maximumWealth(accounts):\n",
    "    #Edit here"
   ]
  },
  {
   "cell_type": "markdown",
   "id": "c1165d3c",
   "metadata": {},
   "source": [
    "## Part 2 - <font color = \"blue\"><b>FINISH BY PERSON 2</font><br>\n",
    "\n",
    "**1. `def emirpPrint(n)`** <br>\n",
    "By calling the functions defined in Part 1 Question 1, write a function that prints the first `n` emirp numbers. This function reads in an integer indicating how many numbers you should print. **Display 10 numbers per line. Seperate each number by a space.** If n cannot be divided by 10, the last line can display less than 10 numbers. <br>\n",
    "Note that in this function you do not need to return anything. (You may but you do not need to). All you need is to print n numbers in the correct format. \n",
    "**Example:** <br>\n",
    "Input:30 <br>\n",
    "Output:<br>\n",
    "13 17 31 37 71 73 79 97 107 113<br>\n",
    "149 157 167 179 199 311 337 347 359 389<br>\n",
    "701 709 733 739 743 751 761 769 907 937<br>"
   ]
  },
  {
   "cell_type": "code",
   "execution_count": null,
   "id": "e7b032ea",
   "metadata": {},
   "outputs": [],
   "source": [
    "def emirpPrint(n):\n",
    "    #Edit here"
   ]
  },
  {
   "cell_type": "markdown",
   "id": "01741a77",
   "metadata": {},
   "source": [
    "**2. Write *at least* 3 test cases for the function in Part 1 Question 2 that your partner implemented. For each test case, provide an explanation on why you are testing on this. Your test cases should be in the following format in the example. You will be graded on the comprehensivness of the test cases you provided. That is, you need to consider about some invalid inputs or some edge cases that will potentially make the function generate errors. (10 pts)**<br>\n",
    "For example, my partner defined a function called `add()` that calculates the sum of two numbers. I will provide following test cases:\n",
    "\n",
    "`add(1, 2) == 3 # test for positive numbers` <br>\n",
    "`add(-1, -2) == -3 # test for negative numbers`<br>\n",
    "`add(\"asd\", \"agg\") == None # test for invalid inputs`<br>\n",
    "`add(None, None) == None # test for empty inputs`<br>\n",
    "\n",
    "If the function actually works as expected, it should return True for each statement above. "
   ]
  },
  {
   "cell_type": "code",
   "execution_count": null,
   "id": "5860f5a7",
   "metadata": {},
   "outputs": [],
   "source": []
  },
  {
   "cell_type": "markdown",
   "id": "b59e2deb",
   "metadata": {},
   "source": [
    "**3. Implement a user interface for Part 1 Question 3 that has the following functions:**\n",
    "<font color = 'green'>\n",
    "1. Ask the user to input amounts of different bank for the first customer\n",
    "2. Ask if the user have a next customer to input<br>\n",
    "    a) if so, go back to step 1<br>\n",
    "    b) otherwise, tell the user the wealth that the richest customer has. \n",
    "</font>\n",
    "*Hint: a while loop might be helpful* <br>\n",
    "**You are free to add more rules to ask your user to regulate their inputs. (i.e. use a comma as a seperator between multiple amounts, etc.) You might also need to parse the users' input into correct format so that you can use it as an argument for the function implemented in Question 3. (10 pts)**"
   ]
  },
  {
   "cell_type": "code",
   "execution_count": null,
   "id": "67468c15",
   "metadata": {},
   "outputs": [],
   "source": []
  }
 ],
 "metadata": {
  "kernelspec": {
   "display_name": "Python 3",
   "language": "python",
   "name": "python3"
  },
  "language_info": {
   "codemirror_mode": {
    "name": "ipython",
    "version": 3
   },
   "file_extension": ".py",
   "mimetype": "text/x-python",
   "name": "python",
   "nbconvert_exporter": "python",
   "pygments_lexer": "ipython3",
   "version": "3.8.8"
  }
 },
 "nbformat": 4,
 "nbformat_minor": 5
}
