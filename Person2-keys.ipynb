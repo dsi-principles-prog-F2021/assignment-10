{
 "cells": [
  {
   "cell_type": "markdown",
   "id": "405a7618",
   "metadata": {},
   "source": [
    "# Assignment 10 - Person 2"
   ]
  },
  {
   "cell_type": "markdown",
   "id": "3bc29bb0",
   "metadata": {},
   "source": [
    "## Part 1 - <font color = \"blue\"><b>FINISH BY PERSON 2</font>\n",
    "### Question 1 - Armstrong Number (20 pts)"
   ]
  },
  {
   "cell_type": "markdown",
   "id": "a6e1e745",
   "metadata": {},
   "source": [
    "An Armstrong number of order n is a positive integer of n digits if abcd... = pow(a,n) + pow(b,n) + pow(c,n) + pow(d,n) + .... Order is the number of the digits of a number.<br>\n",
    "For example, 153 is an Armstrong number because 1 * 1 * 1 + 5 * 5 * 5 + 3 * 3 * 3 = 153. \n",
    "\n",
    "**1. `def split(number)` (5 pts)** <br>\n",
    "This function reads a number as an argument, and returns the list of **integers** containing each digit of the input number. You may assume the argument number will always be a positive integer. <br>\n",
    "**Example:** <br>\n",
    "Input: 153 <br>\n",
    "Output: [1, 5, 3] <br>"
   ]
  },
  {
   "cell_type": "code",
   "execution_count": 1,
   "id": "2cceb4e3",
   "metadata": {},
   "outputs": [
    {
     "data": {
      "text/plain": [
       "[1, 5, 3]"
      ]
     },
     "execution_count": 1,
     "metadata": {},
     "output_type": "execute_result"
    }
   ],
   "source": [
    "def split(number):\n",
    "    num_str = str(number)\n",
    "    result = [int(num_str[i]) for i in range(len(num_str))]\n",
    "    return result\n",
    "\n",
    "split(153)"
   ]
  },
  {
   "cell_type": "markdown",
   "id": "0090b640",
   "metadata": {},
   "source": [
    "**2. `def order(number)` (5 pts)** <br>\n",
    "This function reads a number as an argument, and returns the order of this number, which is the number of digits of this number. You may assume the argument number will always be a positive integer. <br>\n",
    "**Example:** <br>\n",
    "Input: 153 <br>\n",
    "Output: 3 <br>"
   ]
  },
  {
   "cell_type": "code",
   "execution_count": 3,
   "id": "63e026e2",
   "metadata": {},
   "outputs": [
    {
     "data": {
      "text/plain": [
       "3"
      ]
     },
     "execution_count": 3,
     "metadata": {},
     "output_type": "execute_result"
    }
   ],
   "source": [
    "def order(number):\n",
    "    return(len(str(number)))\n",
    "\n",
    "order(153)"
   ]
  },
  {
   "cell_type": "markdown",
   "id": "7939615f",
   "metadata": {},
   "source": [
    "**3. `def isArmstrong(number)` (10 pts)** <br>\n",
    "Given a number x, determine whether the given number is an Armstrong number or not. This function takes a number as an argument, and returns a boolean indicating whether or not this number is an Armstrong number. You may assume the argument number will always be a positive integer. To implement this function, please call the functions you defined in previous questions. <br>\n",
    "**Example:**<br>\n",
    "Input: 153<br>\n",
    "Output: True<br>"
   ]
  },
  {
   "cell_type": "code",
   "execution_count": 44,
   "id": "d7326edc",
   "metadata": {},
   "outputs": [
    {
     "data": {
      "text/plain": [
       "False"
      ]
     },
     "execution_count": 44,
     "metadata": {},
     "output_type": "execute_result"
    }
   ],
   "source": [
    "import math\n",
    "def isArmstrong(number):\n",
    "    splited_number = split(number)\n",
    "    num_order = order(number)\n",
    "    result = [math.pow(i, num_order) for i in splited_number]\n",
    "    return sum(result)==number\n",
    "\n",
    "isArmstrong(54778)"
   ]
  },
  {
   "cell_type": "markdown",
   "id": "954e702b",
   "metadata": {},
   "source": [
    "### Question 2 (30pts)\n",
    "\n",
    "A sentence is a list of words that are separated by a single space with no leading or trailing spaces. Each word consists of lowercase and uppercase English letters.\n",
    "\n",
    "A sentence can be shuffled by appending the 1-indexed word position to each word then rearranging the words in the sentence. If the sentence contains more than 9 words or there are repeated 1-indexed word position appended for more than one word, return \"Not Valid\". \n",
    "Given a shuffled sentence `s`, reconstruct and return the original sentence.\n",
    "\n",
    "**Example:** <br>\n",
    "Input: s = \"is2 sentence4 This1 a3\" <br>\n",
    "Output: \"This is a sentence\"<br>\n",
    "Input: s = \"is2 sentence4 This1 a2\" <br>\n",
    "Output: \"Not Valid\""
   ]
  },
  {
   "cell_type": "code",
   "execution_count": 42,
   "id": "f027f0de",
   "metadata": {},
   "outputs": [
    {
     "data": {
      "text/plain": [
       "'WRIFKGLiwseWPTPJKDSN'"
      ]
     },
     "execution_count": 42,
     "metadata": {},
     "output_type": "execute_result"
    }
   ],
   "source": [
    "def sortSentence(s):\n",
    "    words = s.split()\n",
    "    if len(words) > 9:\n",
    "        return \"Not Valid\"\n",
    "    ans = [None] * len(words)\n",
    "    for word in words:\n",
    "        if ans[int(word[-1]) - 1] is None:\n",
    "            ans[int(word[-1]) - 1] = word[: -1]\n",
    "        else:\n",
    "            return \"Not Valid\"\n",
    "    return ' '.join(ans)\n",
    "sortSentence(\"WRIFKGLiwseWPTPJKDSN1\")"
   ]
  },
  {
   "cell_type": "markdown",
   "id": "2076f833",
   "metadata": {},
   "source": [
    "### Question 3 (20 pts)"
   ]
  },
  {
   "cell_type": "markdown",
   "id": "cd4a1efc",
   "metadata": {},
   "source": [
    "There are n kids with candies. You are given an integer array `candies`, where each `candies[i]` represents the number of candies the ith kid has, and an integer `extraCandies`, denoting the number of extra candies that you have.\n",
    "\n",
    "Return the number of kids that, after giving the ith kid all the `extraCandies`, will have the greatest number of candies among all the kids.\n",
    "\n",
    "Note that multiple kids can have the greatest number of candies.\n",
    "\n",
    "**Example:**<br>\n",
    "Input: candies = [2,3,5,1,3], extraCandies = 3 <br>\n",
    "Output: 4 (after giving extra candies to each kid, kid 1, 2, 3, 5 will be have the greatest number of candies. In total there are 4 kids)"
   ]
  },
  {
   "cell_type": "code",
   "execution_count": 56,
   "id": "3f21645d",
   "metadata": {},
   "outputs": [
    {
     "data": {
      "text/plain": [
       "2"
      ]
     },
     "execution_count": 56,
     "metadata": {},
     "output_type": "execute_result"
    }
   ],
   "source": [
    "def kidsWithCandies(candies, extraCandies):\n",
    "    M = max(candies)\n",
    "    return sum([candy + extraCandies >= M for candy in candies])\n",
    "\n",
    "kidsWithCandies(candies = [2,1,5], extraCandies = 3)"
   ]
  },
  {
   "cell_type": "code",
   "execution_count": 64,
   "id": "fd5f2df4",
   "metadata": {},
   "outputs": [
    {
     "name": "stdout",
     "output_type": "stream",
     "text": [
      "Test cases for Person 2 Part 1\n",
      "Test for Q1(1): \n",
      "Score: 6/5\n",
      "Test for Q1(2): \n",
      "Score: 6/5\n",
      "Test for Q1(3): \n",
      "Score: 14/10\n",
      "Test for Q2: \n",
      "Score: 38/30\n",
      "Test for Q3: \n",
      "Score: 26/20\n",
      "Total Score: 90/70\n"
     ]
    }
   ],
   "source": [
    "print(\"Test cases for Person 2 Part 1\")\n",
    "print(\"Test for Q1(1): \")\n",
    "score1 = 0\n",
    "\n",
    "test_inputs = [153, 265344, 100, 2, 36, 933]\n",
    "test_outputs = [[1,5,3], [2,6,5,3,4,4],[1,0,0], [2], [3, 6], [9,3,3]]\n",
    "\n",
    "for i in range(len(test_inputs)):\n",
    "    try:\n",
    "        if split(test_inputs[i]) == test_outputs[i]:\n",
    "            score1 += 1\n",
    "        else:\n",
    "            print(\"Input: \", test_inputs[i])\n",
    "            print(\"Your Output: \", split(test_inputs[i]))\n",
    "            print(\"Expected Output: \", test_outputs[i])\n",
    "    except:\n",
    "        print(\"Your code generate an error\")\n",
    "        print(\"Input: \", test_inputs[i])\n",
    "        print(\"Expected Output: \", test_outputs[i])\n",
    "\n",
    "print(\"Score: %d/5\" % score1)\n",
    "\n",
    "print(\"Test for Q1(2): \")\n",
    "score2 = 0\n",
    "\n",
    "test_inputs = [153, 265344, 100, 2, 36, 4933]\n",
    "test_outputs = [3, 6,3, 1, 2, 4]\n",
    "\n",
    "for i in range(len(test_inputs)):\n",
    "    try:\n",
    "        if order(test_inputs[i]) == test_outputs[i]:\n",
    "            score2 += 1\n",
    "        else:\n",
    "            print(\"Input: \", test_inputs[i])\n",
    "            print(\"Your Output: \", order(test_inputs[i]))\n",
    "            print(\"Expected Output: \", test_outputs[i])\n",
    "    except:\n",
    "        print(\"Your code generate an error\")\n",
    "        print(\"Input: \", test_inputs[i])\n",
    "        print(\"Expected Output: \", test_outputs[i])\n",
    "\n",
    "print(\"Score: %d/5\" % score2)\n",
    "\n",
    "print(\"Test for Q1(3): \")\n",
    "score3 = 0\n",
    "\n",
    "test_inputs = [370, 371, 372, 1, 152, 54748, 54778]\n",
    "test_outputs = [True, True, False, True, False, True, False]\n",
    "\n",
    "for i in range(len(test_inputs)):\n",
    "    try:\n",
    "        if isArmstrong(test_inputs[i]) == test_outputs[i]:\n",
    "            score3 += 2\n",
    "        else:\n",
    "            print(\"Input: \", test_inputs[i])\n",
    "            print(\"Your Output: \", isArmstrong(test_inputs[i]))\n",
    "            print(\"Expected Output: \", test_outputs[i])\n",
    "    except:\n",
    "        print(\"Your code generate an error\")\n",
    "        print(\"Input: \", test_inputs[i])\n",
    "        print(\"Expected Output: \", test_outputs[i])\n",
    "        \n",
    "\n",
    "print(\"Score: %d/10\" % score3)\n",
    "\n",
    "print(\"Test for Q2: \")\n",
    "score4 = 0\n",
    "\n",
    "test_inputs = [\"is2 sentence4 This1 a3\", \"is2 sentence4 This1 a2\", \"Myself2 Me1 I4 and3\", \"This1 is2 a3 super4 super5 super6 super7 super8 super9 sentence0\", \\\n",
    "               \"pTY1\", \"Yw1 PUx2\", \"sdf1 ckg1\", \"sdf6 sq3 sdfq5 pet4 qer1 sdg2\", \"asas1 asas4 asas5 twe3 we2\", \"sTWER4 sTWER4 sTWER4 sTWER4\", \"PWQ2 sdF1\", \\\n",
    "               \"qw9 sdt2 fjko1 sld5 asd3 cjkgo8 xdnkg4 skdl6 fjifeo7\", \"asf1 asor4 aaaa2 ahre3\", \"asf1 ggg2\", \"asf9 ggg2 s4 g3 x6 v1 f8 a7 r5 w0\",\\\n",
    "              \"asf9 ggg2 s4 g3 x6 v1 f8 a7 r5\", \"a1 a2 a3 a4\", \"01 42 23 44\", \"WRIFKGLiwseWPTPJKDSN1\"]\n",
    "test_outputs = [\"This is a sentence\", \"Not Valid\", \"Me Myself and I\", \"Not Valid\", \"pTY\", \"Yw PUx\", \"Not Valid\", 'qer sdg sq pet sdfq sdf', \\\n",
    "                'asas we twe asas asas', \"Not Valid\", \"sdF PWQ\", 'fjko sdt asd xdnkg sld skdl fjifeo cjkgo qw', \"asf aaaa ahre asor\", \\\n",
    "               \"asf ggg\", \"Not Valid\", \"v ggg g s r x a f asf\", \"a a a a\", '0 4 2 4', 'WRIFKGLiwseWPTPJKDSN']\n",
    "\n",
    "for i in range(len(test_inputs)):\n",
    "    try:\n",
    "        if sortSentence(test_inputs[i]) == test_outputs[i]:\n",
    "            score4 += 2\n",
    "        else:\n",
    "            print(\"Input: \", test_inputs[i])\n",
    "            print(\"Your Output: \", sortSentence(test_inputs[i]))\n",
    "            print(\"Expected Output: \", test_outputs[i])\n",
    "    except:\n",
    "        print(\"Your code generate an error\")\n",
    "        print(\"Input: \", test_inputs[i])\n",
    "        print(\"Expected Output: \", test_outputs[i])\n",
    "\n",
    "print(\"Score: %d/30\" % score4)\n",
    "\n",
    "\n",
    "print(\"Test for Q3: \")\n",
    "score5 = 0\n",
    "\n",
    "test_inputs1 = [[2,3,5,1,3], [2,1], [1,8,1,1,1], [4,2,1,1,2], [12,1,12], [12,1,12, 8, 2, 9], [50,58,90, 41, 89, 99], \\\n",
    "                [1,2,3,4,5,6,7,8,9,10,11,12,13,14,15], [9,2,9,3,6,6], [2,8,7], [1,7,1,8,4,2,1,1], [1,2,3,1], [1,2,3,1,1]]\n",
    "test_inputs2 = [3, 3, 5, 1, 10, 8, 50, 16, 3, 1, 1, 60, 1]\n",
    "test_outputs = [4, 2, 1, 1, 2, 4, 5, 15, 4, 2, 2, 4, 2]\n",
    "\n",
    "for i in range(len(test_inputs1)):\n",
    "    try:\n",
    "        if kidsWithCandies(test_inputs1[i], test_inputs2[i]) == test_outputs[i]:\n",
    "            score5 += 2\n",
    "        else:\n",
    "            print(\"Input: \", test_inputs1[i], \",\", test_inputs2[i])\n",
    "            print(\"Your Output: \", kidsWithCandies(test_inputs1[i], test_inputs2[i]))\n",
    "            print(\"Expected Output: \", test_outputs[i])\n",
    "    except:\n",
    "        print(\"Your code generate an error\")\n",
    "        print(\"Input: \", test_inputs1[i], \",\", test_inputs2[i])\n",
    "        print(\"Expected Output: \", test_outputs[i])\n",
    "\n",
    "print(\"Score: %d/20\" % score5)\n",
    "\n",
    "print(\"Total Score: %d/70\" % (score1+score2+score3+score4+score5))"
   ]
  },
  {
   "cell_type": "markdown",
   "id": "847219f6",
   "metadata": {},
   "source": [
    "## Part 2 - <font color = \"red\"><b>FINISH BY PERSON 1</font>\n",
    "**1. `def armstrongPrint(n)` (10 pts)** <br> \n",
    "By calling the functions defined in Part 1 Question 1, write a function that prints the first `n` armstrong numbers with more than or equal to order 3. (That is, print first n armstrong numbers with more than or equal to 3 digits). Put an extra new line between numbers in different orders. This function takes in an integer indicating how many numbers you should print. <br>\n",
    "Note that in this function you do not need to return anything. (You may but you do not need to). All you need is to print n numbers in the correct format. <br>\n",
    "*Hint: you may use `print()` to print a new line.*  <br>\n",
    "**Example:** <br>\n",
    "Input: 8 <br>\n",
    "Output:<br>\n",
    "153<br>\n",
    "370<br>\n",
    "371<br>\n",
    "407<br>\n",
    "<br>\n",
    "1634<br>\n",
    "8208<br>\n",
    "9474<br>\n",
    "<br>\n",
    "54748<br>"
   ]
  },
  {
   "cell_type": "code",
   "execution_count": 60,
   "id": "1f8cf3ed",
   "metadata": {},
   "outputs": [
    {
     "name": "stdout",
     "output_type": "stream",
     "text": [
      "153\n",
      "370\n",
      "371\n",
      "407\n",
      "\n",
      "1634\n",
      "8208\n",
      "9474\n",
      "\n",
      "54748\n",
      "92727\n",
      "93084\n"
     ]
    }
   ],
   "source": [
    "def armstrongPrint(n):\n",
    "    count = 0\n",
    "    i = 100\n",
    "    curr_order = order(i)\n",
    "    while (count < n):\n",
    "        if isArmstrong(i):\n",
    "            if curr_order != order(i):\n",
    "                print()\n",
    "            curr_num = i\n",
    "            print(curr_num)\n",
    "            count += 1\n",
    "            curr_order = order(curr_num)\n",
    "        i += 1\n",
    "armstrongPrint(10)"
   ]
  },
  {
   "cell_type": "markdown",
   "id": "fb15b2de",
   "metadata": {},
   "source": [
    "**2. Write *at least* 3 test cases for the function in Part 1 Question 2 that your partner implemented. For each test case, provide an explanation on why you are testing on this. Your test cases should be in the following format in the example. You will be graded on the comprehensivness of the test cases you provided. That is, you need to consider some invalid inputs or some edge cases that will potentially make the function generate errors. (10 pts)**<br>\n",
    "For example, my partner defined a function called `add()` that calculates the sum of two numbers. I will provide following test cases:\n",
    "\n",
    "`add(1, 2) == 3 # test for positive numbers` <br>\n",
    "`add(-1, -2) == -3 # test for negative numbers`<br>\n",
    "`add(\"asd\", \"agg\") == None # test for invalid inputs`<br>\n",
    "`add(None, None) == None # test for empty inputs`<br>\n",
    "\n",
    "If the function actually works as expected, each of the statements above should return True. "
   ]
  },
  {
   "cell_type": "code",
   "execution_count": null,
   "id": "36096371",
   "metadata": {},
   "outputs": [],
   "source": []
  },
  {
   "cell_type": "markdown",
   "id": "37d85147",
   "metadata": {},
   "source": [
    "**3. Implement a user interface for Part 1 Question 3 that has the following functions:**\n",
    "<font color = 'green'>\n",
    "1. Ask the user to input the number of candies of a kid\n",
    "2. Ask if the user have a next kid to input<br>\n",
    "    a) if so, go back to step 1<br>\n",
    "    b) otherwise, ask the user to input the number of extra candies\n",
    "3. Tell the user the number of kids that after giving the ith kid all the extra candies, they will have the greatest number of candies among all the kids.\n",
    "4. If any of the inputs is not valid, tell the user how the input is invalid, and ask the user to re-input. \n",
    "</font>\n",
    "*Hint: a while loop might be helpful* <br>\n",
    "**You are free to add more rules to ask your user to regulate their inputs. You might also need to parse the users' input into correct format so that you can use it as an argument for the function implemented in Question 3. (10 pts)**"
   ]
  },
  {
   "cell_type": "code",
   "execution_count": 63,
   "id": "bcd37304",
   "metadata": {},
   "outputs": [
    {
     "name": "stdout",
     "output_type": "stream",
     "text": [
      "Input the number of candies of a kid: 5\n",
      "Do you have the number of candies of next kid to input? (y/n)d\n",
      "Please type in y or n.\n",
      "Do you have the number of candies of next kid to input? (y/n)h\n",
      "Please type in y or n.\n",
      "Do you have the number of candies of next kid to input? (y/n)y\n",
      "Input the number of candies of a kid: 3\n",
      "Do you have the number of candies of next kid to input? (y/n)y\n",
      "Input the number of candies of a kid: 1\n",
      "Do you have the number of candies of next kid to input? (y/n)n\n",
      "Input the number of extra candies: 2\n",
      "The number of kids with most candies after being given extra candies is 2.\n"
     ]
    }
   ],
   "source": [
    "## Error handling may vary\n",
    "## Should handle string input \n",
    "candies = []\n",
    "while True:\n",
    "    c = input(\"Input the number of candies of a kid: \")\n",
    "    if c.isnumeric():\n",
    "        candies.append(int(c))\n",
    "    else:\n",
    "        print(\"You should input a number. \")\n",
    "    nextkid = input(\"Do you have the number of candies of next kid to input? (y/n)\")\n",
    "    if nextkid.lower() != \"n\" and nextkid.lower() != \"y\":\n",
    "        while True:\n",
    "            print(\"Please type in y or n.\")\n",
    "            isContinue=input(\"Do you have the number of candies of next kid to input? (y/n)\")\n",
    "\n",
    "            if isContinue.lower() == \"n\":\n",
    "                break\n",
    "            elif isContinue.lower() == \"y\":\n",
    "                break\n",
    "    if (nextkid == \"n\"):\n",
    "        break\n",
    "    elif nextkid.lower() == \"y\":\n",
    "        continue\n",
    "while True:\n",
    "    extra = input(\"Input the number of extra candies: \")\n",
    "    if not extra.isnumeric():\n",
    "        print(\"You should input a number. \")\n",
    "    else:\n",
    "        extra = int(extra)\n",
    "        break\n",
    "print(\"The number of kids with most candies after being given extra candies is %d.\"% kidsWithCandies(candies, extra))"
   ]
  },
  {
   "cell_type": "code",
   "execution_count": null,
   "id": "de9ec89e",
   "metadata": {},
   "outputs": [],
   "source": []
  }
 ],
 "metadata": {
  "kernelspec": {
   "display_name": "Python 3",
   "language": "python",
   "name": "python3"
  },
  "language_info": {
   "codemirror_mode": {
    "name": "ipython",
    "version": 3
   },
   "file_extension": ".py",
   "mimetype": "text/x-python",
   "name": "python",
   "nbconvert_exporter": "python",
   "pygments_lexer": "ipython3",
   "version": "3.8.8"
  }
 },
 "nbformat": 4,
 "nbformat_minor": 5
}
