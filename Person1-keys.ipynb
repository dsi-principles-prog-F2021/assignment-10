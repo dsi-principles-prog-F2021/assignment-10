{
 "cells": [
  {
   "cell_type": "markdown",
   "id": "6a0276cd",
   "metadata": {},
   "source": [
    "# Assignment 10 - Person 1"
   ]
  },
  {
   "cell_type": "markdown",
   "id": "40ca1026",
   "metadata": {},
   "source": [
    "## Part 1 - <font color = \"red\"><b>FINISH BY PERSON 1</font>\n",
    "### Question 1 - Emirp (20 pts)"
   ]
  },
  {
   "cell_type": "markdown",
   "id": "1b990a6e",
   "metadata": {},
   "source": [
    "An emirp (prime spelled backward) is a **nonpalindromic prime number whose reversal is also a prime**. For example, both 17 and 71 are prime numbers, so 17 and 71 are emirps.\n",
    "\n",
    "**1. `def reverse(number)` (5 pts)** <br> \n",
    "This function reads a number as an argument, and returns the reversed number of the input. You may assume the argument number will always be a positive integer, and you should return an integer as well. <br>\n",
    "**Example:** <br>\n",
    "Input: 13 <br>\n",
    "Output: 31 <br>"
   ]
  },
  {
   "cell_type": "code",
   "execution_count": 2,
   "id": "1ed4ab0c",
   "metadata": {},
   "outputs": [
    {
     "data": {
      "text/plain": [
       "31"
      ]
     },
     "execution_count": 2,
     "metadata": {},
     "output_type": "execute_result"
    }
   ],
   "source": [
    "def reverse(number):\n",
    "    temp = list(str(number))[::-1]\n",
    "    return int(\"\".join(temp))\n",
    "reverse(13)"
   ]
  },
  {
   "cell_type": "markdown",
   "id": "d39fcb14",
   "metadata": {},
   "source": [
    "**2. `def isPrime(number)` (5 pts)** <br>\n",
    "This function reads a number as an argument, and returns a boolean indicating whether or not this number is a prime number. You may assume the argument number will always be a positive integer. <br>\n",
    "**Example:** <br>\n",
    "Input: 13 <br>\n",
    "Output: True <br>\n",
    "Input: 14 <br>\n",
    "Output: False <br>"
   ]
  },
  {
   "cell_type": "code",
   "execution_count": 4,
   "id": "8bb70a96",
   "metadata": {},
   "outputs": [
    {
     "data": {
      "text/plain": [
       "True"
      ]
     },
     "execution_count": 4,
     "metadata": {},
     "output_type": "execute_result"
    }
   ],
   "source": [
    "import math\n",
    "def isPrime(number):\n",
    "    number = int(number)\n",
    "    for i in range(2, math.ceil(number / 2)):\n",
    "        if number % i == 0:\n",
    "            return False\n",
    "    return True\n",
    "isPrime(13)"
   ]
  },
  {
   "cell_type": "markdown",
   "id": "23574d0e",
   "metadata": {},
   "source": [
    "**3. `def isEmirp(number)` (10 points)**<br> \n",
    "This function reads a number as an argument, and returns a boolean indicating whether or not this number is a EMIRP number. You may assume the argument number will always be a positive integer. To implement this function, please call the functions you defined in previous questions. <br>\n",
    "**Example:** <br>\n",
    "Input: 17 <br>\n",
    "Output: True <br>"
   ]
  },
  {
   "cell_type": "code",
   "execution_count": 8,
   "id": "018eb736",
   "metadata": {},
   "outputs": [
    {
     "data": {
      "text/plain": [
       "False"
      ]
     },
     "execution_count": 8,
     "metadata": {},
     "output_type": "execute_result"
    }
   ],
   "source": [
    "def isEmirp(number):\n",
    "    if number != reverse(number) and isPrime(number) and isPrime(reverse(number)):\n",
    "        return True\n",
    "    return False\n",
    "isEmirp(19)"
   ]
  },
  {
   "cell_type": "markdown",
   "id": "74f7ce4b",
   "metadata": {},
   "source": [
    "### Question 2 (30 pts)\n",
    "Given a `sentence` that consists of some words separated by a single space, and a `searchWord`, check if `searchWord` is a prefix of any word in sentence.\n",
    "\n",
    "Return the index of the word in `sentence` where `searchWord` is a prefix of this word. If `searchWord` is a prefix of more than one word, return the index of the first word (minimum index). If there is no such word return -1.\n",
    "\n",
    "**Example:** <br>\n",
    "Input: sentence = \"this problem is an easy problem\", searchWord = \"pro\"<br>\n",
    "Output: 1"
   ]
  },
  {
   "cell_type": "code",
   "execution_count": 15,
   "id": "bddcb3ef",
   "metadata": {},
   "outputs": [
    {
     "data": {
      "text/plain": [
       "1"
      ]
     },
     "execution_count": 15,
     "metadata": {},
     "output_type": "execute_result"
    }
   ],
   "source": [
    "def isPrefixOfWord(sentence, searchWord):\n",
    "    for i, w in enumerate(sentence.split(' '), 1):\n",
    "        if w.startswith(searchWord):\n",
    "            return i-1\n",
    "    return -1 \n",
    "\n",
    "isPrefixOfWord(sentence = \"this problem is an easy problem\", searchWord = \"pro\")"
   ]
  },
  {
   "cell_type": "markdown",
   "id": "5fe0184a",
   "metadata": {},
   "source": [
    "### Question 3 (20 pts)\n",
    "You are given an 2D list `account` where `accounts[i]` contains different amounts of money that the i-th customer saved in different banks. Return the wealth of the richest customer.\n",
    "\n",
    "A customer's wealth is the amount of money they have in all their bank accounts. The richest customer is the customer that has the maximum wealth.\n",
    "\n",
    "**Example:**<br>\n",
    "Input: accounts = [[1,2],[3,2,1]] <br>\n",
    "Output: 6"
   ]
  },
  {
   "cell_type": "code",
   "execution_count": 36,
   "id": "0020359d",
   "metadata": {},
   "outputs": [
    {
     "data": {
      "text/plain": [
       "3"
      ]
     },
     "execution_count": 36,
     "metadata": {},
     "output_type": "execute_result"
    }
   ],
   "source": [
    "def maximumWealth(accounts):\n",
    "    return max(map(sum, accounts))\n",
    "\n",
    "maximumWealth(accounts = [[1], [1,1], [1,1,1]])"
   ]
  },
  {
   "cell_type": "code",
   "execution_count": 59,
   "id": "ec6dcb0c",
   "metadata": {},
   "outputs": [
    {
     "name": "stdout",
     "output_type": "stream",
     "text": [
      "Test cases for Person 1 Part 1\n",
      "Test for Q1(1): \n",
      "Score: 6/5\n",
      "Test for Q1(2): \n",
      "Score: 6/5\n",
      "Test for Q1(3): \n",
      "Score: 14/10\n",
      "Test for Q2: \n",
      "Score: 38/30\n",
      "Test for Q3: \n",
      "Score: 26/20\n",
      "Total Score: 90/70\n"
     ]
    }
   ],
   "source": [
    "print(\"Test cases for Person 1 Part 1\")\n",
    "\n",
    "\n",
    "print(\"Test for Q1(1): \")\n",
    "score1 = 0\n",
    "\n",
    "test_inputs = [13, 17, 313, 2, 1001, 933]\n",
    "test_outputs = [31, 71, 313, 2, 1001, 339]\n",
    "\n",
    "for i in range(len(test_inputs)):\n",
    "    try:\n",
    "        if reverse(test_inputs[i]) == test_outputs[i]:\n",
    "            score1 += 1\n",
    "        else:\n",
    "            print(\"Input: \", test_inputs[i])\n",
    "            print(\"Your Output: \", reverse(test_inputs[i]))\n",
    "            print(\"Expected Output: \", test_outputs[i])\n",
    "    except:\n",
    "        print(\"Your code generate an error\")\n",
    "        print(\"Input: \", test_inputs[i])\n",
    "        print(\"Expected Output: \", test_outputs[i])\n",
    "\n",
    "print(\"Score: %d/5\" % score1)\n",
    "\n",
    "print(\"Test for Q1(2): \")\n",
    "score2 = 0\n",
    "\n",
    "test_inputs = [13, 17, 40, 2, 1101, 100]\n",
    "test_outputs = [True, True, False, True, False, False]\n",
    "\n",
    "for i in range(len(test_inputs)):\n",
    "    try:\n",
    "        if isPrime(test_inputs[i]) == test_outputs[i]:\n",
    "            score2 += 1\n",
    "        else:\n",
    "            print(\"Input: \", test_inputs[i])\n",
    "            print(\"Your Output: \", isPrime(test_inputs[i]))\n",
    "            print(\"Expected Output: \", test_outputs[i])\n",
    "    except:\n",
    "        print(\"Your code generate an error\")\n",
    "        print(\"Input: \", test_inputs[i])\n",
    "        print(\"Expected Output: \", test_outputs[i])\n",
    "\n",
    "print(\"Score: %d/5\" % score2)\n",
    "\n",
    "print(\"Test for Q1(3): \")\n",
    "score3 = 0\n",
    "\n",
    "test_inputs = [31, 73, 40, 193 , 313, 41, 7]\n",
    "test_outputs = [True, True, False, False, False, False, False]\n",
    "\n",
    "for i in range(len(test_inputs)):\n",
    "    try:\n",
    "        if isEmirp(test_inputs[i]) == test_outputs[i]:\n",
    "            score3 += 2\n",
    "        else:\n",
    "            print(\"Input: \", test_inputs[i])\n",
    "            print(\"Your Output: \", isEmirp(test_inputs[i]))\n",
    "            print(\"Expected Output: \", test_outputs[i])\n",
    "    except:\n",
    "        print(\"Your code generate an error\")\n",
    "        print(\"Input: \", test_inputs[i])\n",
    "        print(\"Expected Output: \", test_outputs[i])\n",
    "\n",
    "print(\"Score: %d/10\" % score3)\n",
    "\n",
    "print(\"Test for Q2: \")\n",
    "score4 = 0\n",
    "\n",
    "test_inputs1 = [\"this problem is an easy problem\", \"this problem is an easy problem\", \"i love eating burger\", \"i am tired\", \\\n",
    "               \"i use triple pillow\", \"hello from the other side\", \"i love eating burger burger burger\", \"i love eating ice ikk ill\", \\\n",
    "                \"no such word appear\", \"as dfg aawer jgfdj da ssaa\", \"as dfg aawer jgfdj da ssaa\", \"hellohello hellohellohello\",\\\n",
    "                \"you dream\", \"winstontang\", \"corona dream\", \"dklgowiem\", \"as soon as possible\", \"eiotu sld qpeo asd\", \"prefix is a prefix\"]\n",
    "test_inputs2 = [\"pro\", \"sy\", \"burg\", \"you\", \"pill\", \"they\", \"burg\", \"i\", \"a\", \"jg\", \"a\", \"ell\", \"dr\", \"okymcyz\", \"d\", \"dkl\", \"as\", \"q\", \"a\"]\n",
    "test_outputs = [1, -1, 3, -1, 3, -1, 3, 0, 3, 3, 0, -1, 1, -1, 1, 0, 0, 2, 2]\n",
    "\n",
    "for i in range(len(test_inputs1)):\n",
    "    try:\n",
    "        if isPrefixOfWord(test_inputs1[i], test_inputs2[i]) == test_outputs[i]:\n",
    "            score4 += 2\n",
    "        else:\n",
    "            print(\"Input: \", test_inputs1[i], \",\", test_inputs2[i])\n",
    "            print(\"Your Output: \", isPrefixOfWord(test_inputs1[i], test_inputs2[i]))\n",
    "            print(\"Expected Output: \", test_outputs[i])\n",
    "    except:\n",
    "        print(\"Your code generate an error\")\n",
    "        print(\"Input: \", test_inputs1[i], \",\", test_inputs2[i])\n",
    "        print(\"Expected Output: \", test_outputs[i])\n",
    "\n",
    "print(\"Score: %d/30\" % score4)\n",
    "\n",
    "print(\"Test for Q3: \")\n",
    "score5 = 0\n",
    "\n",
    "test_inputs = [[[1,2],[3,2,1]], [[1,5],[7,3],[3,5]], [[2,8,7],[7,1,3],[1,9,5]],  [[1,2,3],[3,2,1]], [[1], [2]], \\\n",
    "               [[1, 23, 59, 10],[2, 13, 53, 25]],  [[1,2], [3],[4],[5],[6]], [[76,6,55,11,30,65,33,74,14,16,57,79,17,87,36,61,6],[10,18,5,55,94,28,8,36,73,62,23,62,20,70,91,7,10],[73,52,73,50,5,13,45,52,46,66,68,31,89,38,23,70,90],[53,46,30,37,72,8,71,51,40,29,73,96,63,87,63,73,61],[19,42,55,82,58,24,9,39,49,4,78,87,76,22,14,5,90],[94,61,54,11,53,13,62,36,87,51,59,71,14,42,10,36,75],[96,96,16,75,27,16,56,48,90,38,40,7,65,20,98,54,84],[13,2,3,62,89,28,68,3,36,85,59,71,61,32,44,65,33],[43,29,78,49,59,18,30,39,43,43,36,33,20,20,2,23,39],[72,52,52,7,89,78,18,1,7,20,24,88,15,36,34,25,32],[78,91,59,10,97,39,93,76,11,22,81,59,50,100,77,61,6],[67,24,53,76,81,45,38,90,52,5,91,63,66,37,59,100,20],[39,56,10,80,100,89,49,75,49,4,17,7,69,48,25,53,18],[91,78,84,98,31,47,97,79,1,33,68,52,30,1,2,95,47],[95,62,46,59,11,57,26,2,64,27,25,45,97,43,31,40,89],[59,35,65,46,50,44,60,23,99,80,47,57,44,89,69,99,48],[60,72,57,2,66,25,64,37,31,78,23,75,18,19,92,91,86],[58,42,94,94,24,17,17,34,97,90,25,100,46,44,74,29,77],[49,62,43,14,96,38,27,93,52,92,81,62,38,89,71,30,77],[1,97,54,83,95,63,22,37,36,96,4,95,12,70,93,84,40],[75,32,21,19,5,51,70,69,10,34,29,23,53,85,96,71,30],[88,79,42,51,40,24,7,38,56,26,82,100,19,16,92,75,100],[56,14,70,31,60,45,29,71,43,8,14,1,51,63,28,99,11],[56,63,54,56,50,34,99,99,11,97,15,20,62,76,45,98,60],[45,37,22,71,57,40,95,52,91,78,57,99,79,45,100,79,10],[74,96,40,94,75,12,74,73,18,51,73,62,69,50,63,47,91],[38,60,1,74,95,28,93,100,57,66,47,55,2,89,90,80,88],[9,13,73,47,78,79,46,82,7,16,36,15,87,66,3,59,55],[20,66,23,18,41,13,75,70,7,3,97,74,52,60,79,79,94],[50,4,65,88,30,92,72,39,22,34,7,61,45,58,32,14,73],[48,61,29,70,67,21,19,72,41,14,73,26,63,73,72,13,16],[79,14,31,84,20,67,41,74,87,53,52,6,14,77,33,39,18],[50,70,48,65,63,20,76,80,49,76,43,41,51,33,68,78,61],[97,62,37,13,31,84,89,92,33,35,95,9,77,22,29,57,71],[89,16,24,84,36,59,33,100,55,48,47,45,59,11,20,67,69],[65,58,96,19,9,84,92,55,69,61,80,59,78,76,19,29,61],[84,66,72,59,55,71,77,23,55,63,87,57,36,72,12,58,91]], \\\n",
    "              [[6,85,69,80,87,77,75,60,77,49,36,45,23,79,40,34,43,81,82,5,17,95,100,43,73,74,38,9],[26,12,29,99,63,57,61,86,96,1,44,79,76,62,67,27,2,33,67,82,80,76,42,79,50,59,35,81],[73,37,95,67,29,20,19,41,12,60,82,21,80,87,6,98,74,68,4,58,32,9,65,65,82,5,61,49],[1,83,21,89,63,86,50,73,26,8,97,45,38,94,2,90,37,2,18,31,98,74,93,78,91,84,18,50],[6,67,1,59,70,79,21,62,63,5,14,77,60,69,48,54,65,35,72,92,99,80,87,67,32,23,73,95],[40,14,1,72,37,52,10,13,30,42,91,34,96,43,2,38,74,72,35,12,46,93,30,58,20,77,8,100],[92,5,48,72,17,85,95,68,99,39,81,46,26,56,79,49,15,98,39,19,51,64,73,3,54,3,23,39],[84,35,40,50,10,46,59,70,89,35,1,48,69,15,62,31,57,76,47,21,73,79,48,61,92,90,38,96],[65,60,76,30,5,79,33,5,22,41,11,96,29,63,1,6,72,91,100,29,9,26,59,48,38,56,76,52],[36,60,18,65,31,27,49,12,74,1,76,63,5,60,71,74,40,80,14,24,87,7,81,92,3,30,42,12],[62,2,67,74,89,23,79,38,26,51,40,67,47,67,76,98,83,61,46,72,9,71,14,32,19,62,94,22],[69,55,53,94,57,40,29,46,12,86,63,4,84,64,96,87,70,52,48,85,25,87,65,95,27,79,70,99],[4,57,79,51,15,46,18,13,98,81,75,3,93,55,62,70,17,86,84,30,100,86,75,27,27,18,5,86],[84,100,86,13,85,38,59,21,49,56,100,61,1,62,80,37,78,19,62,89,35,13,47,51,6,29,68,38],[22,84,56,51,13,73,17,74,6,36,52,59,26,53,87,68,18,70,19,13,81,41,69,27,68,43,100,21],[98,88,98,13,57,81,40,77,28,39,68,23,86,49,75,56,81,55,40,63,25,23,35,66,82,18,23,32],[79,14,54,47,93,98,94,68,37,72,94,40,56,99,21,18,69,11,6,23,90,57,5,71,49,98,32,91],[27,60,70,96,34,59,26,55,48,95,97,55,60,74,7,53,82,73,96,57,59,34,4,75,61,63,69,72],[24,38,81,61,81,53,87,6,78,46,64,5,93,16,3,63,5,76,6,93,55,98,62,25,64,84,90,10],[60,85,29,68,47,62,9,44,33,57,22,63,15,97,21,53,71,69,45,92,79,73,39,25,54,38,34,37],[25,6,33,71,50,8,89,82,100,49,85,26,99,82,46,58,86,41,76,2,21,51,4,40,30,99,54,13],[66,86,21,44,26,82,23,61,96,100,12,91,36,76,61,50,48,68,75,39,84,25,44,46,38,96,35,48],[89,21,81,42,93,38,33,47,26,32,65,53,30,4,27,99,44,79,74,88,52,67,31,40,72,99,5,85],[57,53,97,20,76,52,85,76,35,3,56,42,5,24,57,27,52,93,44,1,74,42,59,38,41,94,31,33],[86,29,95,61,95,62,48,49,10,54,100,27,85,26,91,84,91,5,63,58,75,94,21,83,50,84,47,84],[35,36,82,100,43,56,2,79,96,84,13,95,53,90,38,31,74,19,72,54,94,30,97,34,74,87,64,4],[76,46,79,40,69,30,42,45,22,27,38,85,65,59,53,10,39,74,6,67,55,24,94,49,35,100,45,19],[75,96,37,95,9,71,88,11,68,59,73,21,18,12,5,18,40,47,52,17,85,47,4,95,5,1,21,15],[38,4,40,32,95,87,56,8,62,12,59,35,65,2,53,98,95,45,29,58,75,44,3,62,45,26,95,3],[4,31,70,96,40,28,23,89,96,18,87,53,100,82,30,26,94,95,58,58,34,87,7,94,63,5,91,92],[7,86,20,83,27,97,65,29,42,94,30,88,57,81,2,19,81,96,57,5,43,56,57,4,50,86,11,13],[9,88,31,24,42,68,52,73,22,96,65,74,25,50,75,88,33,77,54,67,54,42,23,80,46,83,25,42],[30,21,15,52,3,70,27,48,48,15,27,64,68,13,19,1,7,1,34,97,60,40,44,85,63,30,85,84],[39,8,86,43,29,21,7,79,53,95,11,3,44,30,38,89,98,93,37,9,62,56,3,66,11,41,95,27],[51,58,19,7,31,51,59,36,99,43,31,28,84,73,12,4,43,7,71,8,13,96,66,85,29,15,55,55],[52,59,5,65,62,8,42,34,90,24,41,85,72,3,38,88,55,34,53,72,98,73,79,77,97,72,11,73],[43,84,28,25,61,99,58,61,55,39,12,18,26,9,17,51,95,100,33,37,60,55,82,22,78,85,50,40],[92,38,45,21,39,26,89,8,35,38,47,38,75,70,24,94,83,57,93,41,33,100,31,19,67,17,83,96],[45,38,9,45,53,27,90,60,36,28,88,58,15,40,98,60,62,13,63,59,78,84,60,13,99,68,80,54],[14,95,50,98,3,27,78,20,94,49,91,63,57,23,89,45,88,77,18,55,90,60,95,6,10,80,16,47],[83,31,76,76,60,61,82,10,12,49,98,44,78,72,87,7,23,26,22,52,13,39,7,66,86,96,65,32]], \\\n",
    "              [[1]], [[1,2], [94, 20]], [[1], [1,1], [1,1,1]], [[36], [16], [16,47,23]]]\n",
    "test_outputs = [6, 10, 17, 6, 2, 93, 6, 1063, 1757, 1, 114, 3, 86]\n",
    "\n",
    "for i in range(len(test_inputs)):\n",
    "    try:\n",
    "        if maximumWealth(test_inputs[i]) == test_outputs[i]:\n",
    "            score5 += 2\n",
    "        else:\n",
    "            print(\"Input: \", test_inputs[i])\n",
    "            print(\"Your Output: \", maximumWealth(test_inputs[i]))\n",
    "            print(\"Expected Output: \", test_outputs[i])\n",
    "    except:\n",
    "        print(\"Your code generate an error\")\n",
    "        print(\"Input: \", test_inputs[i])\n",
    "        print(\"Expected Output: \", test_outputs[i])\n",
    "\n",
    "print(\"Score: %d/20\" % score5)\n",
    "\n",
    "print(\"Total Score: %d/70\" % (score1+score2+score3+score4+score5))"
   ]
  },
  {
   "cell_type": "markdown",
   "id": "c1165d3c",
   "metadata": {},
   "source": [
    "## Part 2 - <font color = \"blue\"><b>FINISH BY PERSON 2</font><br>\n",
    "\n",
    "**1. `def emirpPrint(n)` (10 pts)** <br>\n",
    "By calling the functions defined in Part 1 Question 1, write a function that prints the first `n` emirp numbers. This function reads in an integer indicating how many numbers you should print. **Display 10 numbers per line. Seperate each number by a space.** If n cannot be divided by 10, the last line can display less than 10 numbers. <br>\n",
    "Note that in this function you do not need to return anything. (You may but you do not need to). All you need is to print n numbers in the correct format. <br>\n",
    "**Example:** <br>\n",
    "Input:30 <br>\n",
    "Output:<br>\n",
    "13 17 31 37 71 73 79 97 107 113<br>\n",
    "149 157 167 179 199 311 337 347 359 389<br>\n",
    "701 709 733 739 743 751 761 769 907 937<br>"
   ]
  },
  {
   "cell_type": "code",
   "execution_count": 40,
   "id": "e7b032ea",
   "metadata": {},
   "outputs": [
    {
     "name": "stdout",
     "output_type": "stream",
     "text": [
      "13 17 31 37 71 73 79 97 107 113\n",
      "149 157 167 179 199 311 337 347 359 389\n",
      "701 709 733 739 743 751 761 769 907 937\n",
      "941 953 967 971 983 991 1009 1021 1031 1033\n",
      "1061 1069 1091 1097 1103 1109 1151 1153 1181 1193\n"
     ]
    }
   ],
   "source": [
    "def emirpPrint(n):\n",
    "    result = []\n",
    "    i = 3\n",
    "    while len(result) < n:\n",
    "        if (isEmirp(i)):\n",
    "            result.append(str(i))\n",
    "        i += 1\n",
    "    j = 0\n",
    "    while j + 10 <= len(result):\n",
    "        ps = \" \".join(result[j:j+10])\n",
    "        print(ps)\n",
    "        j = j + 10\n",
    "        \n",
    "emirpPrint(50)"
   ]
  },
  {
   "cell_type": "markdown",
   "id": "01741a77",
   "metadata": {},
   "source": [
    "**2. Write *at least* 3 test cases for the function in Part 1 Question 2 that your partner implemented. For each test case, provide an explanation on why you are testing on this. Your test cases should be in the following format in the example. You will be graded on the comprehensivness of the test cases you provided. That is, you need to consider about some invalid inputs or some edge cases that will potentially make the function generate errors. (10 pts)**<br>\n",
    "For example, my partner defined a function called `add()` that calculates the sum of two numbers. I will provide following test cases:\n",
    "\n",
    "`add(1, 2) == 3 # test for positive numbers` <br>\n",
    "`add(-1, -2) == -3 # test for negative numbers`<br>\n",
    "`add(\"asd\", \"agg\") == None # test for invalid inputs`<br>\n",
    "`add(None, None) == None # test for empty inputs`<br>\n",
    "\n",
    "If the function actually works as expected, each of the statements above should return True. "
   ]
  },
  {
   "cell_type": "code",
   "execution_count": null,
   "id": "5860f5a7",
   "metadata": {},
   "outputs": [],
   "source": []
  },
  {
   "cell_type": "markdown",
   "id": "b59e2deb",
   "metadata": {},
   "source": [
    "**3. Implement a user interface for Part 1 Question 3 that has the following functions:**\n",
    "<font color = 'green'>\n",
    "1. Ask the user to input amounts of different bank for the first customer\n",
    "2. Ask if the user have a next customer to input<br>\n",
    "    a) if so, go back to step 1<br>\n",
    "    b) otherwise, tell the user the wealth that the richest customer has. \n",
    "3. If any of the inputs is not valid, tell the user how the input is invalid, and ask the user to re-input. \n",
    "</font>\n",
    "*Hint: a while loop might be helpful* <br>\n",
    "**You are free to add more rules to ask your user to regulate their inputs. (i.e. use a comma as a seperator between multiple amounts, etc.) You might also need to parse the users' input into correct format so that you can use it as an argument for the function implemented in Question 3. (10 pts)**"
   ]
  },
  {
   "cell_type": "code",
   "execution_count": 58,
   "id": "67468c15",
   "metadata": {},
   "outputs": [
    {
     "name": "stdout",
     "output_type": "stream",
     "text": [
      "Please enter the amounts, seperated by comma: 1,2,3\n",
      "Do you have next customer to input? (y/n)s\n",
      "Please type in y or n.\n",
      "Do you have next customer to input? (y/n)y\n",
      "Please enter the amounts, seperated by comma: 2,3,4\n",
      "Do you have next customer to input? (y/n)g\n",
      "Please type in y or n.\n",
      "Do you have next customer to input? (y/n)y\n",
      "Please enter the amounts, seperated by comma: 322\n",
      "Do you have next customer to input? (y/n)n\n",
      "322\n"
     ]
    }
   ],
   "source": [
    "## Error handling may vary\n",
    "## Should handle string input\n",
    "## Should handle other outputs for \"yes\" and \"no\"\n",
    "accounts = []\n",
    "while True:\n",
    "    amount=input(\"Please enter the amounts, seperated by comma: \")\n",
    "    amounts = amount.split(\",\")\n",
    "    isvalid = True\n",
    "    for i in amounts:\n",
    "        if not i.isnumeric():\n",
    "            isvalid = False\n",
    "            print(\"Invalid input type!\")\n",
    "            break\n",
    "    if not isvalid:\n",
    "        continue;\n",
    "    parsed_amount = [int(i) for i in amounts]\n",
    "    accounts.append(parsed_amount)\n",
    "    \n",
    "    isContinue=input(\"Do you have next customer to input? (y/n)\")\n",
    "\n",
    "    \n",
    "    if isContinue.lower() != \"y\" and isContinue.lower() != \"n\":\n",
    "        while True:\n",
    "            print(\"Please type in y or n.\")\n",
    "            isContinue=input(\"Do you have next customer to input? (y/n)\")\n",
    "\n",
    "            if isContinue.lower() == \"n\":\n",
    "                break\n",
    "            elif isContinue.lower() == \"y\":\n",
    "                break\n",
    "    \n",
    "    if isContinue.lower() == \"n\":\n",
    "        break\n",
    "    elif isContinue.lower() == \"y\":\n",
    "        continue\n",
    "        \n",
    "\n",
    "print(\"Maximum wealth of the customer is:\" , maximumWealth(accounts))\n"
   ]
  },
  {
   "cell_type": "code",
   "execution_count": null,
   "id": "fe1b67af",
   "metadata": {},
   "outputs": [],
   "source": []
  }
 ],
 "metadata": {
  "kernelspec": {
   "display_name": "Python 3",
   "language": "python",
   "name": "python3"
  },
  "language_info": {
   "codemirror_mode": {
    "name": "ipython",
    "version": 3
   },
   "file_extension": ".py",
   "mimetype": "text/x-python",
   "name": "python",
   "nbconvert_exporter": "python",
   "pygments_lexer": "ipython3",
   "version": "3.8.8"
  }
 },
 "nbformat": 4,
 "nbformat_minor": 5
}
