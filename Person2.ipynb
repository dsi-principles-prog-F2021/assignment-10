{
 "cells": [
  {
   "cell_type": "markdown",
   "id": "405a7618",
   "metadata": {},
   "source": [
    "# Assignment 10 - Person 2"
   ]
  },
  {
   "cell_type": "markdown",
   "id": "3bc29bb0",
   "metadata": {},
   "source": [
    "## Part 1 - <font color = \"blue\"><b>FINISH BY PERSON 2</font>\n",
    "### Question 1 - Armstrong Number (20 pts)"
   ]
  },
  {
   "cell_type": "markdown",
   "id": "a6e1e745",
   "metadata": {},
   "source": [
    "An Armstrong number of order n is a positive integer of n digits if abcd... = pow(a,n) + pow(b,n) + pow(c,n) + pow(d,n) + .... Order is the number of the digits of a number.<br>\n",
    "For example, 153 is an Armstrong number because 1 * 1 * 1 + 5 * 5 * 5 + 3 * 3 * 3 = 153. \n",
    "\n",
    "**1. `def split(number)` (5 pts)** <br>\n",
    "This function reads a number as an argument, and returns the list of **integers** containing each digit of the input number. You may assume the argument number will always be a positive integer. <br>\n",
    "**Example:** <br>\n",
    "Input: 153 <br>\n",
    "Output: [1, 5, 3] <br>"
   ]
  },
  {
   "cell_type": "code",
   "execution_count": 26,
   "id": "2cceb4e3",
   "metadata": {},
   "outputs": [],
   "source": [
    "def split(number):\n",
    "    #Edit here"
   ]
  },
  {
   "cell_type": "markdown",
   "id": "0090b640",
   "metadata": {},
   "source": [
    "**2. `def order(number)` (5 pts)** <br>\n",
    "This function reads a number as an argument, and returns the order of this number, which is the number of digits of this number. You may assume the argument number will always be a positive integer. <br>\n",
    "**Example:** <br>\n",
    "Input: 153 <br>\n",
    "Output: 3 <br>"
   ]
  },
  {
   "cell_type": "code",
   "execution_count": 2,
   "id": "63e026e2",
   "metadata": {},
   "outputs": [],
   "source": [
    "def order(number):\n",
    "    #Edit here"
   ]
  },
  {
   "cell_type": "markdown",
   "id": "7939615f",
   "metadata": {},
   "source": [
    "**3. `def isArmstrong(number)` (10 pts)** <br>\n",
    "Given a number x, determine whether the given number is an Armstrong number or not. This function takes a number as an argument, and returns a boolean indicating whether or not this number is an Armstrong number. You may assume the argument number will always be a positive integer. To implement this function, please call the functions you defined in previous questions. <br>\n",
    "**Example:**<br>\n",
    "Input: 153<br>\n",
    "Output: True<br>"
   ]
  },
  {
   "cell_type": "code",
   "execution_count": 12,
   "id": "d7326edc",
   "metadata": {},
   "outputs": [
    {
     "data": {
      "text/plain": [
       "False"
      ]
     },
     "execution_count": 12,
     "metadata": {},
     "output_type": "execute_result"
    }
   ],
   "source": [
    "import math\n",
    "def isArmstrong(number):\n",
    "    #Edit here"
   ]
  },
  {
   "cell_type": "markdown",
   "id": "954e702b",
   "metadata": {},
   "source": [
    "### Question 2 (30pts)\n",
    "\n",
    "A sentence is a list of words that are separated by a single space with no leading or trailing spaces. Each word consists of lowercase and uppercase English letters.\n",
    "\n",
    "A sentence can be shuffled by appending the 1-indexed word position to each word then rearranging the words in the sentence. If the sentence contains more than 9 words or there are repeated 1-indexed word position appended for more than one word, return \"Not Valid\". \n",
    "Given a shuffled sentence `s`, reconstruct and return the original sentence.\n",
    "\n",
    "**Example:** <br>\n",
    "Input: s = \"is2 sentence4 This1 a3\" <br>\n",
    "Output: \"This is a sentence\"\n",
    "Input: s = \"is2 sentence4 This1 a2\" <br>\n",
    "Output: \"Not Valid\""
   ]
  },
  {
   "cell_type": "code",
   "execution_count": null,
   "id": "f027f0de",
   "metadata": {},
   "outputs": [],
   "source": [
    "def sortSentence(s):\n",
    "    #Edit here"
   ]
  },
  {
   "cell_type": "markdown",
   "id": "2076f833",
   "metadata": {},
   "source": [
    "### Question 3 (20 pts)"
   ]
  },
  {
   "cell_type": "markdown",
   "id": "cd4a1efc",
   "metadata": {},
   "source": [
    "There are n kids with candies. You are given an integer array `candies`, where each `candies[i]` represents the number of candies the ith kid has, and an integer `extraCandies`, denoting the number of extra candies that you have.\n",
    "\n",
    "Return the number of kids that, after giving the ith kid all the `extraCandies`, will have the greatest number of candies among all the kids.\n",
    "\n",
    "Note that multiple kids can have the greatest number of candies.\n",
    "\n",
    "**Example:**<br>\n",
    "Input: candies = [2,3,5,1,3], extraCandies = 3 <br>\n",
    "Output: 4 (after giving extra candies to each kid, kid 1, 2, 3, 5 will be have the greatest number of candies. In total there are 4 kids)"
   ]
  },
  {
   "cell_type": "code",
   "execution_count": null,
   "id": "3f21645d",
   "metadata": {},
   "outputs": [],
   "source": [
    "def kidsWithCandies(candies, extraCandies):\n",
    "    #Edit here"
   ]
  },
  {
   "cell_type": "markdown",
   "id": "847219f6",
   "metadata": {},
   "source": [
    "## Part 2 - <font color = \"red\"><b>FINISH BY PERSON 1</font>\n",
    "**1. `def armstrongPrint(n)` (10 pts)** <br> \n",
    "By calling the functions defined in Part 1 Question 1, write a function that prints the first `n` armstrong numbers with more than or equal to order 3. (That is, print first n armstrong numbers with more than or equal to 3 digits). Put an extra new line between numbers in different orders. This function takes in an integer indicating how many numbers you should print. <br>\n",
    "Note that in this function you do not need to return anything. (You may but you do not need to). All you need is to print n numbers in the correct format. <br>\n",
    "*Hint: you may use `print()` to print a new line.*  <br>\n",
    "**Example:** <br>\n",
    "Input: 8 <br>\n",
    "Output:<br>\n",
    "153<br>\n",
    "370<br>\n",
    "371<br>\n",
    "407<br>\n",
    "<br>\n",
    "1634<br>\n",
    "8208<br>\n",
    "9474<br>\n",
    "<br>\n",
    "54748<br>"
   ]
  },
  {
   "cell_type": "code",
   "execution_count": 39,
   "id": "1f8cf3ed",
   "metadata": {},
   "outputs": [],
   "source": [
    "def armstrongPrint(n):\n",
    "    #Edit here"
   ]
  },
  {
   "cell_type": "markdown",
   "id": "fb15b2de",
   "metadata": {},
   "source": [
    "**2. Write *at least* 3 test cases for the function in Part 1 Question 2 that your partner implemented. For each test case, provide an explanation on why you are testing on this. Your test cases should be in the following format in the example. You will be graded on the comprehensivness of the test cases you provided. That is, you need to consider some invalid inputs or some edge cases that will potentially make the function generate errors. (10 pts)**<br>\n",
    "For example, my partner defined a function called `add()` that calculates the sum of two numbers. I will provide following test cases:\n",
    "\n",
    "`add(1, 2) == 3 # test for positive numbers` <br>\n",
    "`add(-1, -2) == -3 # test for negative numbers`<br>\n",
    "`add(\"asd\", \"agg\") == None # test for invalid inputs`<br>\n",
    "`add(None, None) == None # test for empty inputs`<br>\n",
    "\n",
    "If the function actually works as expected, it should return True for each statement above. "
   ]
  },
  {
   "cell_type": "code",
   "execution_count": null,
   "id": "36096371",
   "metadata": {},
   "outputs": [],
   "source": []
  },
  {
   "cell_type": "markdown",
   "id": "37d85147",
   "metadata": {},
   "source": [
    "**3. Implement a user interface for Part 1 Question 3 that has the following functions:**\n",
    "<font color = 'green'>\n",
    "1. Ask the user to input the number of candies of a kid\n",
    "2. Ask if the user have a next kid to input<br>\n",
    "    a) if so, go back to step 1<br>\n",
    "    b) otherwise, ask the user to input the number of extra candies\n",
    "3. Tell the user the number of kids that after giving the ith kid all the extra candies, they will have the greatest number of candies among all the kids.\n",
    "</font>\n",
    "*Hint: a while loop might be helpful* <br>\n",
    "**You are free to add more rules to ask your user to regulate their inputs. You might also need to parse the users' input into correct format so that you can use it as an argument for the function implemented in Question 3. (10 pts)**"
   ]
  },
  {
   "cell_type": "code",
   "execution_count": null,
   "id": "bcd37304",
   "metadata": {},
   "outputs": [],
   "source": []
  }
 ],
 "metadata": {
  "kernelspec": {
   "display_name": "Python 3",
   "language": "python",
   "name": "python3"
  },
  "language_info": {
   "codemirror_mode": {
    "name": "ipython",
    "version": 3
   },
   "file_extension": ".py",
   "mimetype": "text/x-python",
   "name": "python",
   "nbconvert_exporter": "python",
   "pygments_lexer": "ipython3",
   "version": "3.8.8"
  }
 },
 "nbformat": 4,
 "nbformat_minor": 5
}
